{
 "cells": [
  {
   "cell_type": "code",
   "execution_count": null,
   "metadata": {},
   "outputs": [],
   "source": [
    "print(\"Welcome to pokemon Gym\");\n",
    "age = input(\"Enter your age\");\n",
    "\n",
    "if age >= 21 :\n",
    "    print('You can enroll in our gym');\n",
    "elif age > 40 : \n",
    "    print('sorry, not eligible');\n",
    "else : age < 20 \n",
    "print('sorry, not eligible');"
   ]
  },
  {
   "cell_type": "code",
   "execution_count": null,
   "metadata": {},
   "outputs": [],
   "source": []
  }
 ],
 "metadata": {
  "kernelspec": {
   "display_name": "Python 3",
   "language": "python",
   "name": "python3"
  },
  "language_info": {
   "name": "python",
   "version": "3.12.3"
  }
 },
 "nbformat": 4,
 "nbformat_minor": 2
}
